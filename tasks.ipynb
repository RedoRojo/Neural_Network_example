{
 "cells": [
  {
   "cell_type": "code",
   "execution_count": 9,
   "metadata": {},
   "outputs": [],
   "source": [
    "# from AudioUtils import split_mp3\n",
    "from AcentosDataSet import AcentosDataset\n",
    "from audio_management import AudioUtils"
   ]
  },
  {
   "cell_type": "code",
   "execution_count": 11,
   "metadata": {},
   "outputs": [],
   "source": [
    "audio_utils = AudioUtils()\n",
    "audio_utils.split_mp3(input_file=\"arms.mp3\", \n",
    "                      output_path=\"./audio\", \n",
    "                      label=\"must\", \n",
    "                      label_id=\"3\", \n",
    "                      csv_file=\"./annotations.csv\")"
   ]
  },
  {
   "cell_type": "code",
   "execution_count": 10,
   "metadata": {},
   "outputs": [
    {
     "ename": "TypeError",
     "evalue": "AcentosDataset.__init__() got an unexpected keyword argument 'annotation_file'",
     "output_type": "error",
     "traceback": [
      "\u001b[0;31m---------------------------------------------------------------------------\u001b[0m",
      "\u001b[0;31mTypeError\u001b[0m                                 Traceback (most recent call last)",
      "Cell \u001b[0;32mIn[10], line 1\u001b[0m\n\u001b[0;32m----> 1\u001b[0m data \u001b[39m=\u001b[39m AcentosDataset(device\u001b[39m=\u001b[39;49m\u001b[39m\"\u001b[39;49m\u001b[39mcuda\u001b[39;49m\u001b[39m\"\u001b[39;49m, audio_dir\u001b[39m=\u001b[39;49m\u001b[39m\"\u001b[39;49m\u001b[39m./audio\u001b[39;49m\u001b[39m\"\u001b[39;49m, annotation_file\u001b[39m=\u001b[39;49m\u001b[39m\"\u001b[39;49m\u001b[39m./annotations.csv\u001b[39;49m\u001b[39m\"\u001b[39;49m,  transformation\u001b[39m=\u001b[39;49m\u001b[39mNone\u001b[39;49;00m)\n\u001b[1;32m      2\u001b[0m \u001b[39mprint\u001b[39m(\u001b[39mlen\u001b[39m(data))\n\u001b[1;32m      3\u001b[0m \u001b[39mprint\u001b[39m(data[\u001b[39m0\u001b[39m])\n",
      "\u001b[0;31mTypeError\u001b[0m: AcentosDataset.__init__() got an unexpected keyword argument 'annotation_file'"
     ]
    }
   ],
   "source": [
    "\n",
    "data = AcentosDataset(device=\"cuda\", audio_dir=\"./audio\", annotation_file=\"./annotations.csv\",  transformation=None)\n",
    "print(len(data))\n",
    "print(data[0])"
   ]
  },
  {
   "cell_type": "code",
   "execution_count": null,
   "metadata": {},
   "outputs": [],
   "source": []
  }
 ],
 "metadata": {
  "kernelspec": {
   "display_name": "Python 3",
   "language": "python",
   "name": "python3"
  },
  "language_info": {
   "codemirror_mode": {
    "name": "ipython",
    "version": 3
   },
   "file_extension": ".py",
   "mimetype": "text/x-python",
   "name": "python",
   "nbconvert_exporter": "python",
   "pygments_lexer": "ipython3",
   "version": "3.11.3"
  },
  "orig_nbformat": 4
 },
 "nbformat": 4,
 "nbformat_minor": 2
}
